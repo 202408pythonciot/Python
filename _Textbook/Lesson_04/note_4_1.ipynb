{
  "nbformat": 4,
  "nbformat_minor": 0,
  "metadata": {
    "colab": {
      "provenance": []
    },
    "kernelspec": {
      "name": "python3",
      "display_name": "Python 3"
    },
    "language_info": {
      "name": "python"
    }
  },
  "cells": [
    {
      "cell_type": "markdown",
      "source": [
        "# 4.1 変数\n",
        "---\n",
        "[Google Colaboratoryで開く](https://colab.research.google.com/github/202408pythonciot/Python/blob/main/_Textbook/Lesson_04/note_4_1.ipynb)\n",
        "\n",
        "<a target=\"_blank\" href=\"https://colab.research.google.com/github/202408pythonciot/Python/blob/main/_Textbook/Lesson_04/note_4_1.ipynb\">\n",
        "  <img src=\"https://colab.research.google.com/assets/colab-badge.svg\" alt=\"Open In Colab\"/>\n",
        "</a>\n",
        "\n",
        "---\n",
        "\n",
        "\n",
        "\n",
        "## 4.1.1 変数とは\n",
        "Pythonにおけるに変数とは，値に名前を付ける仕組みであり、名前はその値を指し示すことになります。\n",
        "\n",
        "> ※ Pythonの入門書（この講座で使われている教科書も含め）で，変数は「箱」と解説しているものが多数ありますが，正確な表現ではありません。Pythonの扱うものはすべてオブジェクトであり，変数はオブジェクトを参照しているものです。\n",
        "\n",
        "\n"
      ],
      "metadata": {
        "id": "Y41HiUqy10YH"
      }
    },
    {
      "cell_type": "markdown",
      "source": [
        "```Python\n",
        "変数名 = 値\n",
        "```\n",
        "\n",
        "C言語などと異なり変数に型宣言はありません。"
      ],
      "metadata": {
        "id": "gxVE8VpC4Hp1"
      }
    },
    {
      "cell_type": "code",
      "execution_count": null,
      "metadata": {
        "colab": {
          "base_uri": "https://localhost:8080/"
        },
        "id": "nwtJG6fJ1jhC",
        "outputId": "d5080eed-33ae-47f8-df0a-2b5fa5f11ce4"
      },
      "outputs": [
        {
          "output_type": "stream",
          "name": "stdout",
          "text": [
            "点数は， 56 点です。\n",
            "訂正します。 23 点です。\n"
          ]
        }
      ],
      "source": [
        "num = 56\n",
        "print(\"点数は，\", num, \"点です。\")\n",
        "\n",
        "num = 23\n",
        "print(\"訂正します。\", num, \"点です。\")"
      ]
    },
    {
      "cell_type": "markdown",
      "source": [
        "## 4.1.2 主な組み込み型\n",
        "種類 | 予約語 | 説明\n",
        "--- | --- | ---\n",
        "整数 | int | C言語のように32ビットや64ビットのようにサイズは決まっておらず，多桁長の整数値を扱うことができる\n",
        "浮動小数点 | float | 倍精度の64ビット\n",
        "複素数 | complex | 実数部と虚数部がそれぞれ浮動小数点として扱うことができる\n",
        "真偽値 | bool | True/False\n",
        "None | None | なにもないことを表現する型\n",
        "リスト | list | 変更可能なシーケンス\n",
        "タプル | tuple | 変更不可なシーケンス  \n",
        "文字列（テキストシーケンス） | str |  \n",
        "集合 | set | 要素の集合を表すコレクションで，要素の重複が許されない\n",
        "マッピング | dict | 辞書型ともいわれるコレクションで，keyとvalueの一対を格納する\n",
        "クラス |  |\n",
        "インスタンス | |\n",
        "例外 | except |"
      ],
      "metadata": {
        "id": "hnhTt2DH2Yb2"
      }
    },
    {
      "cell_type": "markdown",
      "source": [
        "## 4.1.3 type関数\n",
        "type関数を使うことで，オブジェクトの型を調べることができます。\n",
        "\n",
        "調べたい対象が変数名の場合，変数が参照している型を返します。\n",
        "```Python\n",
        "type(調べたい変数名)\n",
        "```\n",
        "\n"
      ],
      "metadata": {
        "id": "TGjtZ8bE7Z_N"
      }
    },
    {
      "cell_type": "markdown",
      "source": [
        "### 変数の型の判別"
      ],
      "metadata": {
        "id": "Sr53rjXGI8tl"
      }
    },
    {
      "cell_type": "code",
      "source": [
        "age = 25\n",
        "print(type(age))\n",
        "\n",
        "print(type(123))\n",
        "print(type(1.23))\n",
        "print(type(\"123\"))"
      ],
      "metadata": {
        "colab": {
          "base_uri": "https://localhost:8080/"
        },
        "id": "nm-cwXLS2Xdo",
        "outputId": "96f6b3c9-2b67-4287-f7d6-3b8f72441880"
      },
      "execution_count": null,
      "outputs": [
        {
          "output_type": "stream",
          "name": "stdout",
          "text": [
            "<class 'int'>\n",
            "<class 'int'>\n",
            "<class 'float'>\n",
            "<class 'str'>\n"
          ]
        }
      ]
    },
    {
      "cell_type": "markdown",
      "source": [
        "比較演算子を使って型判定ができます。"
      ],
      "metadata": {
        "id": "xHubzZtJJP2O"
      }
    },
    {
      "cell_type": "code",
      "source": [
        "print(type(123) == int)   # True\n",
        "print(type(123) == str)   # False\n"
      ],
      "metadata": {
        "colab": {
          "base_uri": "https://localhost:8080/"
        },
        "id": "ZH2KJE1PJBdr",
        "outputId": "ce25386a-d5a4-49a7-ab4f-72528f2a9838"
      },
      "execution_count": null,
      "outputs": [
        {
          "output_type": "stream",
          "name": "stdout",
          "text": [
            "True\n",
            "False\n"
          ]
        }
      ]
    },
    {
      "cell_type": "markdown",
      "source": [
        "## 4.1.4 変数の命名\n",
        "Python の 変数 は、アンダーバー\"_\"を含む英数字からなる名前で表します。英字の大文字と小文字は区別されます。最初の1文字はアンダーバーまたは英字でなくてはなりません。\n",
        "\n",
        "またPythonの予約語と同じ変数名を使うことはできません。エラーになります。"
      ],
      "metadata": {
        "id": "3_YLcoMiDnNk"
      }
    },
    {
      "cell_type": "code",
      "source": [
        "and = '1' # エラーになる"
      ],
      "metadata": {
        "id": "seHikuCCtBCw"
      },
      "execution_count": null,
      "outputs": []
    },
    {
      "cell_type": "markdown",
      "source": [
        "### ※予約語\n",
        "Pythonの予約語の一覧は，keywordライブラリの中に用意されています。以下のプログラムを実行すると予約語の一覧が表示されます。"
      ],
      "metadata": {
        "id": "3fuO83ykoQe4"
      }
    },
    {
      "cell_type": "code",
      "source": [
        "import keyword\n",
        "for word in keyword.kwlist:\n",
        "  print(word)"
      ],
      "metadata": {
        "colab": {
          "base_uri": "https://localhost:8080/"
        },
        "id": "qZL2Sxhln7mY",
        "outputId": "977d4a32-f179-4e58-b31f-884b7b470232"
      },
      "execution_count": null,
      "outputs": [
        {
          "output_type": "stream",
          "name": "stdout",
          "text": [
            "False\n",
            "None\n",
            "True\n",
            "and\n",
            "as\n",
            "assert\n",
            "async\n",
            "await\n",
            "break\n",
            "class\n",
            "continue\n",
            "def\n",
            "del\n",
            "elif\n",
            "else\n",
            "except\n",
            "finally\n",
            "for\n",
            "from\n",
            "global\n",
            "if\n",
            "import\n",
            "in\n",
            "is\n",
            "lambda\n",
            "nonlocal\n",
            "not\n",
            "or\n",
            "pass\n",
            "raise\n",
            "return\n",
            "try\n",
            "while\n",
            "with\n",
            "yield\n"
          ]
        }
      ]
    },
    {
      "cell_type": "markdown",
      "source": [
        "※組み込み関数  \n",
        "Pythonには，予め用意されている組み込み関数があります。組み込み関数は変数名として使用できてしまいますが，使用した場合には本来の機能が使えなくなりますので注意してください。"
      ],
      "metadata": {
        "id": "gMijBXtFtQLu"
      }
    },
    {
      "cell_type": "code",
      "source": [
        "sum = 10 # 組み込み関数だが，エラーにならない\n",
        "sum([1, 2, 3]) # ただし変数として使うと，従来の機能はエラーになる"
      ],
      "metadata": {
        "id": "-u2Zn_XDtZRt"
      },
      "execution_count": null,
      "outputs": []
    }
  ]
}
