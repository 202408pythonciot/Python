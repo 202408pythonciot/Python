{
  "nbformat": 4,
  "nbformat_minor": 0,
  "metadata": {
    "colab": {
      "provenance": []
    },
    "kernelspec": {
      "name": "python3",
      "display_name": "Python 3"
    },
    "language_info": {
      "name": "python"
    }
  },
  "cells": [
    {
      "cell_type": "markdown",
      "source": [
        "# 追加1：練習問題１：年齢の表示\n",
        "---\n",
        "[Google Colaboratoryで開く](https://colab.research.google.com/github/202408pythonciot/Python/blob/main/_Textbook/Lesson_04/ex1_4_1.ipynb)\n",
        "\n",
        "<a target=\"_blank\" href=\"https://colab.research.google.com/github/202408pythonciot/Python/blob/main/_Textbook/Lesson_04/ex1_4_1.ipynb\">\n",
        "  <img src=\"https://colab.research.google.com/assets/colab-badge.svg\" alt=\"Open In Colab\"/>\n",
        "</a>\n",
        "\n",
        "---\n",
        "\n",
        "プログラム説明: このプログラムは、変数を使って年齢を表示します。  \n",
        "目的: 変数の基本的な操作（代入、参照、上書き）を学びます。\n",
        "\n",
        "---\n",
        "\n",
        "## **<font color= \"#a00\">問題</font>**\n",
        "以下の手順に従ってプログラムを作成してください。\n",
        "- 変数 `age` に `25` を代入する。\n",
        "- `print` 関数を使用して `age` の値を表示する。\n",
        "    - 表示メッセージ: \"年齢は 25 歳です。\"\n",
        "- 変数 `age` の値を `30` に上書きする。\n",
        "- `print` 関数を使用して再度 `age` の値を表示する。\n",
        "    - 表示メッセージ: \"実際の年齢は 30 歳です。\""
      ],
      "metadata": {
        "id": "8GjzzWo4bKVL"
      }
    },
    {
      "cell_type": "markdown",
      "source": [
        "## **コーディング欄**\n"
      ],
      "metadata": {
        "id": "3r7tB-TMWdbQ"
      }
    },
    {
      "cell_type": "code",
      "source": [
        "# 以下に解答コードを入力\n",
        "\n",
        "\n"
      ],
      "metadata": {
        "id": "rpplUklaWbnQ"
      },
      "execution_count": 1,
      "outputs": []
    },
    {
      "cell_type": "code",
      "execution_count": 2,
      "metadata": {
        "colab": {
          "base_uri": "https://localhost:8080/"
        },
        "id": "8jVI_eJ4Huyr",
        "outputId": "0e920df2-14f2-4908-c2a9-09d7f9e5e53a",
        "cellView": "form"
      },
      "outputs": [
        {
          "output_type": "stream",
          "name": "stdout",
          "text": [
            "年齢は 25 歳です。\n",
            "年齢は 30 歳です。\n"
          ]
        }
      ],
      "source": [
        "#@title **<font color= \"#00a\">コーディング例</font>**\n",
        "\n",
        "age = 25\n",
        "\n",
        "print(f'年齢は {age} 歳です。')\n",
        "\n",
        "age = 30\n",
        "\n",
        "print(f'年齢は {age} 歳です。')\n"
      ]
    }
  ]
}